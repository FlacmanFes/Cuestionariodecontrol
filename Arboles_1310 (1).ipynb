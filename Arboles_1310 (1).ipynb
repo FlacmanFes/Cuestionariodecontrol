{
  "nbformat": 4,
  "nbformat_minor": 0,
  "metadata": {
    "colab": {
      "name": "Arboles_1310",
      "provenance": []
    },
    "kernelspec": {
      "name": "python3",
      "display_name": "Python 3"
    },
    "language_info": {
      "name": "python"
    }
  },
  "cells": [
    {
      "cell_type": "code",
      "metadata": {
        "id": "-72XSBpgGzN4"
      },
      "source": [
        "class NodoBinario:\n",
        "    def __init__( self , value , left=None , right=None ):\n",
        "        self.data = value\n",
        "        self.left = left\n",
        "        self.right = right\n",
        "\n",
        "class NodoTernario:\n",
        "    def __init__( self , value , left=None , center=None, right=None ):\n",
        "        self.data = value\n",
        "        self.left = left\n",
        "        self.center = center\n",
        "        self.right = right\n"
      ],
      "execution_count": null,
      "outputs": []
    },
    {
      "cell_type": "code",
      "metadata": {
        "colab": {
          "base_uri": "https://localhost:8080/"
        },
        "id": "vsBUTQ8OHMTT",
        "outputId": "c8ae725b-cee0-4ca9-991d-8d3c6e129db5"
      },
      "source": [
        "arbol1 = NodoBinario( \"R\" , NodoBinario(\"C\") , NodoBinario(\"H\") )\n",
        "print( arbol1.right.data)\n",
        "\n",
        "arbol2 = NodoTernario( 4 , NodoTernario( 3 , NodoTernario(5 , left=NodoTernario(2) ) \\\n",
        "        , NodoTernario(5) , NodoTernario(2) )  , None , NodoTernario(5) )\n",
        "print( arbol2.left.right.data)\n",
        "print( arbol2.data)\n",
        "print( arbol2.left.center.data)\n",
        "print( arbol2.right.left)\n",
        "print( arbol2.left.left.left.data)\n",
        "print(\"----- sin usar la palabra print ----\")\n",
        "ejemplo = arbol2.left.left.left.data\n",
        "print(ejemplo)\n",
        "print(\"---- otra forma ----\")\n",
        "aux = arbol2\n",
        "while( aux.left != None):\n",
        "    aux = aux.left\n",
        "print( aux.data )"
      ],
      "execution_count": null,
      "outputs": [
        {
          "output_type": "stream",
          "name": "stdout",
          "text": [
            "H\n",
            "2\n",
            "4\n",
            "5\n",
            "None\n",
            "2\n",
            "----- sin usar la palabra print ----\n",
            "2\n",
            "---- otra forma ----\n",
            "2\n"
          ]
        }
      ]
    },
    {
      "cell_type": "code",
      "metadata": {
        "colab": {
          "base_uri": "https://localhost:8080/"
        },
        "id": "ClS9AtKhfXae",
        "outputId": "ef9f05bb-d87d-4df5-a289-a6a84ed4e971"
      },
      "source": [
        "root = NodoBinario(\"Santi\",None,NodoBinario(\"Jesus\",NodoBinario(\"Pedro\",None,NodoBinario(\"Pedro jr\"))))\n",
        "print(root.right.left.right.data)"
      ],
      "execution_count": null,
      "outputs": [
        {
          "output_type": "stream",
          "name": "stdout",
          "text": [
            "Pedro jr\n"
          ]
        }
      ]
    },
    {
      "cell_type": "code",
      "metadata": {
        "id": "xZ4GXoUEgJGW"
      },
      "source": [
        "class NodoBinario:\n",
        "    def __init__( self , value , left=None , right=None ):\n",
        "        self.data = value\n",
        "        self.left = left\n",
        "        self.right = right\n",
        "\n",
        "class NodoBinarioArbol:\n",
        "    def __init__( self ):\n",
        "        self.root = None\n",
        "\n",
        "    def insert( self , value ):\n",
        "        if self.root == None:\n",
        "            self.root = NodoBinario( value )\n",
        "        else:\n",
        "            self.__insert_nodo( self.root , value )     \n",
        "\n",
        "    def __insert_nodo( self , nodo , value ):\n",
        "        if nodo.data == value:\n",
        "            pass\n",
        "        elif value < nodo.data:\n",
        "            if nodo.left == None:\n",
        "                nodo.left = NodoBinario( value )\n",
        "            else:\n",
        "                self.__insert_nodo( nodo.left , value )\n",
        "        else:\n",
        "            if nodo.right == None:\n",
        "                nodo.right = NodoBinario( value )\n",
        "            else:\n",
        "                self.__insert_nodo( nodo.right , value )\n",
        "\n",
        "    def transversal( self , formato = \"postorden\"):\n",
        "        if formato == \"postorden\":\n",
        "            self.recorrido_pos( self.root )\n",
        "        elif formato == \"preorden\":\n",
        "            self.recorrido_pre( self.root )\n",
        "        else: # inorden\n",
        "            self.recorrido_in( self.root )\n",
        "        print()                         \n",
        "\n",
        "    def recorrido_pos( self , nodo ):\n",
        "        if nodo != None:\n",
        "            self.recorrido_pos( nodo.left )\n",
        "            self.recorrido_pos( nodo.right )\n",
        "            print( str(nodo.data) , end=\" , \" )                       \n",
        "\n",
        "    def recorrido_pre( self , nodo ):\n",
        "        if nodo != None:\n",
        "            print( str(nodo.data) , end=\" , \" )\n",
        "            self.recorrido_pre( nodo.left )\n",
        "            self.recorrido_pre( nodo.right )\n",
        "                                   \n",
        "    def recorrido_in( self , nodo ):\n",
        "        if nodo != None:\n",
        "            self.recorrido_in( nodo.left )\n",
        "            print( str(nodo.data) , end=\" , \" )\n",
        "            self.recorrido_in( nodo.right )\n",
        "\n",
        "    def search( self , value ):\n",
        "        if self.root == None:\n",
        "            print(\"El arbol esta vacio\")\n",
        "            return None\n",
        "        else:\n",
        "            self.__search( self.root , value )\n",
        "\n",
        "    def __search( self , nodo , value ):\n",
        "        if nodo.data == None:\n",
        "            print(\"El dato no existe en el arbol\")\n",
        "            return None\n",
        "        elif nodo.data == value:\n",
        "            print(\"Encontrado\")\n",
        "            return nodo\n",
        "        elif value < nodo.data:\n",
        "            return self.__buscar( nodo.left , value )\n",
        "        else:\n",
        "            return self.__buscar( nodo.right , value )"
      ],
      "execution_count": 1,
      "outputs": []
    },
    {
      "cell_type": "code",
      "metadata": {
        "colab": {
          "base_uri": "https://localhost:8080/"
        },
        "id": "E-Q9CDawPkNR",
        "outputId": "fee92150-6327-44be-fcb3-1e01a0d8773c"
      },
      "source": [
        "arbol1 = NodoBinarioArbol()\n",
        "arbol1.insert(60)\n",
        "arbol1.insert(30)\n",
        "arbol1.insert(15)\n",
        "arbol1.insert(40)\n",
        "arbol1.transversal()\n",
        "arbol1.transversal(\"preorden\")\n",
        "arbol1.transversal(\"inorden\")"
      ],
      "execution_count": 2,
      "outputs": [
        {
          "output_type": "stream",
          "name": "stdout",
          "text": [
            "15 , 40 , 30 , 60 , \n",
            "60 , 30 , 15 , 40 , \n",
            "15 , 30 , 40 , 60 , \n"
          ]
        }
      ]
    }
  ]
}