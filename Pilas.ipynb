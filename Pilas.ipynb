{
  "nbformat": 4,
  "nbformat_minor": 0,
  "metadata": {
    "colab": {
      "name": "Pilas.ipynb",
      "provenance": []
    },
    "kernelspec": {
      "name": "python3",
      "display_name": "Python 3"
    },
    "language_info": {
      "name": "python"
    }
  },
  "cells": [
    {
      "cell_type": "code",
      "metadata": {
        "id": "PkUouUJ6-n1j"
      },
      "source": [
        "class StackADT:\n",
        "    def __init__( self ):\n",
        "        self.__data= list()\n",
        "\n",
        "    # regresa true si la pila esta vacia \n",
        "    def is_empty( self ):\n",
        "         return len( self.__data )==0\n",
        "        \n",
        "    def get_length( self ):\n",
        "        return len( self.__data)\n",
        "\n",
        "    def pop( self ):\n",
        "        if self.is_empty():\n",
        "            print(\"Pila vacia, nada que sacar\")\n",
        "        else:\n",
        "            return self.__data.pop()\n",
        "\n",
        "    def peek( self ):\n",
        "        if self.is_empty():\n",
        "            print(\"Pila vacia, nada que sacar\")\n",
        "        else:\n",
        "            return self.__data[ -1 ]\n",
        "\n",
        "    def push( self, value ):\n",
        "        self.__data.append( value )\n",
        "    \n",
        "    def to_string( self ):\n",
        "        for item in self.__data[::-1]:\n",
        "            print(f\"|  { item }   |\")"
      ],
      "execution_count": 4,
      "outputs": []
    },
    {
      "cell_type": "code",
      "metadata": {
        "colab": {
          "base_uri": "https://localhost:8080/"
        },
        "id": "GGE7eHsD-lH0",
        "outputId": "450d4265-013f-4321-cb1e-7464590d192c"
      },
      "source": [
        "pila = StackADT()\n",
        "print(\"Esta vacia? =\" , pila.is_empty())\n",
        "print(\"# elementos: \", pila.get_length())\n",
        "pila.push(10)\n",
        "print(\"Esta vacia? =\" , pila.is_empty())\n",
        "print(\"# elementos: \", pila.get_length())\n",
        "pila.push(20)\n",
        "pila.push(30)\n",
        "pila.push(40)\n",
        "pila.to_string()\n",
        "print ( pila.pop()) #40\n",
        "print(pila.peek())\n",
        "pila.to_string()"
      ],
      "execution_count": 5,
      "outputs": [
        {
          "output_type": "stream",
          "name": "stdout",
          "text": [
            "Esta vacia? = True\n",
            "# elementos:  0\n",
            "Esta vacia? = False\n",
            "# elementos:  1\n",
            "|  40   |\n",
            "|  30   |\n",
            "|  20   |\n",
            "|  10   |\n",
            "40\n",
            "30\n",
            "|  30   |\n",
            "|  20   |\n",
            "|  10   |\n"
          ]
        }
      ]
    },
    {
      "cell_type": "code",
      "metadata": {
        "id": "rh81DVgMi0z0",
        "colab": {
          "base_uri": "https://localhost:8080/"
        },
        "outputId": "46a14044-8b09-470e-9514-c699a6157ec0"
      },
      "source": [
        "!cat prog.txt"
      ],
      "execution_count": 7,
      "outputs": [
        {
          "output_type": "stream",
          "name": "stdout",
          "text": [
            "#include <stdio.h>\r\n",
            "int main()\r\n",
            "{\r\n",
            "    int num, count, sum = 0;\r\n",
            "\r\n",
            "    printf(\"Enter a positive integer: \");\r\n",
            "    scanf(\"%d\", &num);\r\n",
            "\r\n",
            "    // for loop terminates when num is less than count\r\n",
            "    for(count = 1; count <= num; ++count)\r\n",
            "    {\r\n",
            "        sum += count;\r\n",
            "    }\r\n",
            "\r\n",
            "    printf(\"Sum = %d\", sum);\r\n",
            "\r\n",
            "    return 0;\r\n",
            "}"
          ]
        }
      ]
    },
    {
      "cell_type": "code",
      "metadata": {
        "colab": {
          "base_uri": "https://localhost:8080/"
        },
        "id": "EMj_whimz0KB",
        "outputId": "5da86816-5e3b-44b3-9c59-a244cfa46296"
      },
      "source": [
        "entrada = open( 'prog.txt' , 'rt')\n",
        "codigo = entrada.read()\n",
        "#print( codigo )\n",
        "pilaControl = StackADT()\n",
        "pilaControl.push(\"#\") #caracter de pila vacía\n",
        "\n",
        "for letra in codigo:\n",
        "    #print(f\"--> { LETRA } <--\")\n",
        "    if letra == '{':\n",
        "      pilaControl.push('{')\n",
        "    elif letra == '}': #regla 2\n",
        "          basura = pilaControl.pop()\n",
        "    else:\n",
        "        pass\n",
        "\n",
        "  #NOTA: Este código aún no contempla desbalanceo\n",
        "if pilaControl.peek() == '#':\n",
        "      print(\"El código proporcionado está correctamente balanceado\")\n",
        "else:\n",
        "    print(\"El código no esta balanceado en llaves { y } \")\n",
        "    "
      ],
      "execution_count": 11,
      "outputs": [
        {
          "output_type": "stream",
          "name": "stdout",
          "text": [
            "El código proporcionado está correctamente balanceado\n"
          ]
        }
      ]
    }
  ]
}