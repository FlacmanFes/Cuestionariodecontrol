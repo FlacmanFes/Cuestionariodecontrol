{
  "nbformat": 4,
  "nbformat_minor": 0,
  "metadata": {
    "colab": {
      "name": "Array2dADT.ipynb",
      "provenance": []
    },
    "kernelspec": {
      "name": "python3",
      "display_name": "Python 3"
    },
    "language_info": {
      "name": "python"
    }
  },
  "cells": [
    {
      "cell_type": "code",
      "metadata": {
        "id": "b5B_YoYq6XVh"
      },
      "source": [
        "class Array2DADT: \n",
        "    def __init__( self , ren , col ):\n",
        "        self.__pollo = [ [ 0 for y in range(col) ] for x in range(ren) ] \n",
        "    def clear ( self , dato ):\n",
        "        self.__pollo = [ [ dato for y in range(self.get_col_size())]for x in range(self.get_row_size()) ] \n",
        "    def get_row_size( self ):\n",
        "        return len( self.__pollo )\n",
        "    def get_col_size( self ):\n",
        "        return len( self.__pollo[0] )\n",
        "    def set_item( self , ren, col, dato ):\n",
        "        self.__pollo[ren][col]= dato\n",
        "    \n",
        "    def get_item( self , ren, col ):\n",
        "        return self.__pollo[ren][col]\n",
        "    def to_string( self ):\n",
        "      \n",
        "        cadena = \"|\"\n",
        "        for renglon in self.__pollo:\n",
        "            cadena = cadena + \"|\"\n",
        "            for dato in renglon:\n",
        "                cadena = cadena + str(dato) + \"|\"\n",
        "                cadena = cadena + \"\\n\"\n",
        "        return cadena"
      ],
      "execution_count": 2,
      "outputs": []
    },
    {
      "cell_type": "code",
      "metadata": {
        "colab": {
          "base_uri": "https://localhost:8080/"
        },
        "id": "rTD1RRJU6gYF",
        "outputId": "8eff4112-a1c8-4d88-94f0-c91dd0bd31c6"
      },
      "source": [
        "a2d = Array2DADT( 3, 6 )\n",
        "print(f\"Ren:{ a2d.get_row_size() }\")\n",
        "print(f\"Col: { a2d.get_col_size() }\")\n",
        "print(a2d.to_string())\n",
        "print(\" \")\n",
        "a2d.clear(\"M\")\n",
        "print(a2d.to_string())\n",
        "\n",
        "a2d.set_item(2,3,'p')\n",
        "print(a2d.to_string())\n",
        "print(a2d.get_item(2 , 3))"
      ],
      "execution_count": 3,
      "outputs": [
        {
          "output_type": "stream",
          "name": "stdout",
          "text": [
            "Ren:3\n",
            "Col: 6\n",
            "||0|\n",
            "0|\n",
            "0|\n",
            "0|\n",
            "0|\n",
            "0|\n",
            "|0|\n",
            "0|\n",
            "0|\n",
            "0|\n",
            "0|\n",
            "0|\n",
            "|0|\n",
            "0|\n",
            "0|\n",
            "0|\n",
            "0|\n",
            "0|\n",
            "\n",
            " \n",
            "||M|\n",
            "M|\n",
            "M|\n",
            "M|\n",
            "M|\n",
            "M|\n",
            "|M|\n",
            "M|\n",
            "M|\n",
            "M|\n",
            "M|\n",
            "M|\n",
            "|M|\n",
            "M|\n",
            "M|\n",
            "M|\n",
            "M|\n",
            "M|\n",
            "\n",
            "||M|\n",
            "M|\n",
            "M|\n",
            "M|\n",
            "M|\n",
            "M|\n",
            "|M|\n",
            "M|\n",
            "M|\n",
            "M|\n",
            "M|\n",
            "M|\n",
            "|M|\n",
            "M|\n",
            "M|\n",
            "p|\n",
            "M|\n",
            "M|\n",
            "\n",
            "p\n"
          ]
        }
      ]
    },
    {
      "cell_type": "code",
      "metadata": {
        "id": "my5Av8pq6kT0"
      },
      "source": [
        "dir(list)\n",
        "\"\"\"\n",
        "La entrada\n",
        "Los datos iniciales como lo son:\n",
        "1 .- Tamaño de la poblacion (ren y cols)\n",
        "2 .-La poblacion inicial\n",
        "3.- El numero de generaciones a simular estaran proporcionadas por un archivo de entrada separado por comas(csv)\n",
        "5\n",
        "5\n",
        "\n",
        "0,0,0,0,0\n",
        "0,0,1,0,0\n",
        "0,1,1,1,0\n",
        "0,0,0,0,0\n",
        "0,0,0,0,0\n",
        "\n",
        "\"\"\"\n",
        "\n",
        "class JuegoDeLaVida:\n",
        "    def _init_ ( self, ruta_archivo ):\n",
        "        self.rens = None\n",
        "        self.cols = None\n",
        "        self.tablero = None\n",
        "        self.generaciones = None\n",
        "        self.read_game_data( ruta_archivo )\n",
        "\n",
        "    def read_game_data( self, archivo ):\n",
        "       #método que recibe la ruta del archivo, lee y da valores\n",
        "       archivo = open(archivo, 'rt')\n",
        "       lineas = archivo.readlines()\n",
        "       #quitar espacios en blanco y saltos de línea\n",
        "       for index in range(len(lineas)):\n",
        "           lineas[index] = lineas[index].strip()\n",
        "       #print(lineas)\n",
        "       \n",
        "       self.rens = int( lineas[0] )\n",
        "       self.cols = int( lineas[1] )\n",
        "       self.tablero = Array2DADT(self.rens, self.cols)\n",
        "       #variables locales\n",
        "       r = 0\n",
        "       c = 0\n",
        "       for index in range( 2, 2 + self.rens , 1 ):\n",
        "           c = 0\n",
        "           for dato in lineas[index].split( ',' ):\n",
        "               self.tablero.set_item( r , c , int(dato) )\n",
        "               c += 1\n",
        "           r += 1\n",
        "\n",
        "       self.generaciones = int( lineas [ len(lineas) - 1] ) # int( lineas[-1])\n",
        "       print( \"Gens:\", self.generaciones)\n",
        "       print(self.tablero.to_string())\n",
        "\n",
        "    def get_vecinos( self, r , c):\n",
        "        vecinos = []\n",
        "        for ren in range( r-1 , r+2 , 1 ):\n",
        "            for col in range(c-1 , c+2 , 1):\n",
        "                if ren < 0 or ren >= self.tablero.get_row_size() or col < 0 or col >= self.tablero.get_col_size() or (ren==r and col==c):\n",
        "                    pass\n",
        "                else:\n",
        "                    vecinos.append((ren,col))\n",
        "        return vecinos\n",
        "    def get_vecinos_vivos( self, r, c ):\n",
        "        vecinos = self.get_vecinos(r, c)\n",
        "        vivos = 0\n",
        "        for par in vecinos:\n",
        "            if self.tablero.get_item( par[0], par[1] ) == 1:\n",
        "                vivos += 1\n",
        "            return vivos\n",
        "            \n",
        "    def calcular_siguinte(self ):\n",
        "        nueva_gen = Array2DADT(self.rens, self.cols)\n",
        "        #Aplicar 4 reglas a cada celula y el resultado ponerlo en nueva_gen\n",
        "        for ren in range( self ):\n",
        "            for col in range( sel.cols ):\n",
        "                print(f\"{ren},{col} --> {self.get_vecinos_vivos(ren, col)}\")\n",
        "        self.tablero = nueva_gen"
      ],
      "execution_count": 6,
      "outputs": []
    },
    {
      "cell_type": "code",
      "metadata": {
        "colab": {
          "base_uri": "https://localhost:8080/",
          "height": 162
        },
        "id": "ZANIg5HI6wVF",
        "outputId": "699afcc7-6d23-492f-8eeb-92f94b1225c0"
      },
      "source": [
        "juego = JuegoDeLaVida( \"entrada.txt\" )\n"
      ],
      "execution_count": 8,
      "outputs": [
        {
          "output_type": "error",
          "ename": "TypeError",
          "evalue": "ignored",
          "traceback": [
            "\u001b[0;31m---------------------------------------------------------------------------\u001b[0m",
            "\u001b[0;31mTypeError\u001b[0m                                 Traceback (most recent call last)",
            "\u001b[0;32m<ipython-input-8-e18aac54012e>\u001b[0m in \u001b[0;36m<module>\u001b[0;34m()\u001b[0m\n\u001b[0;32m----> 1\u001b[0;31m \u001b[0mjuego\u001b[0m \u001b[0;34m=\u001b[0m \u001b[0mJuegoDeLaVida\u001b[0m\u001b[0;34m(\u001b[0m \u001b[0;34m\"entrada.txt\"\u001b[0m \u001b[0;34m)\u001b[0m\u001b[0;34m\u001b[0m\u001b[0;34m\u001b[0m\u001b[0m\n\u001b[0m",
            "\u001b[0;31mTypeError\u001b[0m: JuegoDeLaVida() takes no arguments"
          ]
        }
      ]
    }
  ]
}